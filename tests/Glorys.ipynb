{
 "cells": [
  {
   "cell_type": "markdown",
   "metadata": {},
   "source": [
    "# Testing if I can make something better than GeoEnrich quickly\n",
    "\n",
    "The goal is to make something that works the same way as `geoenrich` but in a much more modular and general-purpose way.\n",
    "\n",
    "The constraints are:\n",
    "- Must be able to get an area around a point (which we'll call a \"seascape\" from now on)\n",
    "- Must be able to compute a summary of that seascape\n",
    "- Must scale well to large amounts of points\n",
    "- Shouldn't make multiple requests for the same \"background\". E.g.: if we want to get the bathymetry seascape, we should only request one map and then cut it up locally (to avoid DDoS-ing the data server)"
   ]
  },
  {
   "cell_type": "markdown",
   "metadata": {},
   "source": [
    "## Get a GLORYS square near a series of points"
   ]
  },
  {
   "cell_type": "code",
   "execution_count": 1,
   "metadata": {},
   "outputs": [],
   "source": [
    "import math\n",
    "import sys\n",
    "sys.path.append(\"..\")\n",
    "\n",
    "import numpy as np\n",
    "import matplotlib.pyplot as plt\n",
    "import matplotlib.colors as mplc\n",
    "import cartopy.crs as ccrs\n",
    "from cartopy.mpl.geoaxes import GeoAxes\n",
    "\n",
    "import xarray as xr\n",
    "import copernicusmarine as cmems\n",
    "\n",
    "import xscape as xscp"
   ]
  },
  {
   "cell_type": "code",
   "execution_count": null,
   "metadata": {},
   "outputs": [],
   "source": [
    "# Generate random coordinates\n",
    "n_points = 10\n",
    "\n",
    "points = xscp.generate_points(200, (-50, 20), (-60, 0))\n",
    "\n",
    "fig, ax = plt.subplots(1,1,figsize=(10,5), subplot_kw={'projection':ccrs.Robinson()})\n",
    "\n",
    "ax.coastlines()\n",
    "xscp.plotting.plot_points(points)\n"
   ]
  },
  {
   "cell_type": "code",
   "execution_count": null,
   "metadata": {},
   "outputs": [],
   "source": [
    "# Glorys data request\n",
    "seascape_size = 1 # degrees\n",
    "gridsize = 1/12\n",
    "extent = xscp.get_request_extent(points, seascape_size, gridsize)\n",
    "# data_request = {\n",
    "#     'dataset_id': 'cmems_mod_glo_phy_my_0.083deg_P1D-m',\n",
    "#     'variables': ['zos', 'thetao', 'so', 'mlotst'],\n",
    "#     'start_datetime': \"2000-01-01\",\n",
    "#     'end_datetime' : \"2000-12-31\",\n",
    "#     'maximum_latitude': extent['maximum_latitude'],\n",
    "#     'minimum_latitude': extent['minimum_latitude'],\n",
    "#     'maximum_longitude': extent['maximum_longitude'],\n",
    "#     'minimum_longitude': extent['minimum_longitude'],\n",
    "#     }\n",
    "\n",
    "# glorys_ds = cmems.open_dataset(**data_request)\n",
    "\n",
    "glorys_ds = xscp.get_glorys_da(\n",
    "    ['zos', 'thetao', 'so', 'mlotst'],\n",
    "    \"2000-01-01\",\n",
    "    \"2000-12-31\",\n",
    "    extent\n",
    ")"
   ]
  },
  {
   "cell_type": "code",
   "execution_count": null,
   "metadata": {},
   "outputs": [],
   "source": [
    "glorys_vars = glorys_ds.isel(time=0, depth=0)\n",
    "\n",
    "fig, ax = plt.subplots(1,1,figsize=(8,8), subplot_kw={'projection':ccrs.Robinson()})\n",
    "\n",
    "# Plot background\n",
    "norm = mplc.Normalize(vmin=0, vmax=30, clip=False)\n",
    "contourf_ = ax.contourf(glorys_vars.lon, glorys_vars.lat, glorys_vars.thetao, levels=[x for x in range(0,31)],\\\n",
    "                        transform=ccrs.PlateCarree(), norm=norm, cmap='coolwarm', extend='both');\n",
    "cbar = fig.colorbar(contourf_, label=\"°C\", ticks=[x*5 for x in range(0,7)], extend='both')\n",
    "\n",
    "# Plot points\n",
    "ax.coastlines()\n",
    "xscp.plotting.plot_points(points)\n",
    "\n",
    "plt.show()"
   ]
  },
  {
   "cell_type": "code",
   "execution_count": null,
   "metadata": {},
   "outputs": [],
   "source": [
    "glorys_var = glorys_vars.thetao # We will only have one variable at a time and so we should extract it at the start\n",
    "\n",
    "xscp_da = xscp.create_xscp_da(\n",
    "    points,\n",
    "    seascape_size,\n",
    "    gridsize,\n",
    "    glorys_var\n",
    ")"
   ]
  },
  {
   "cell_type": "code",
   "execution_count": null,
   "metadata": {},
   "outputs": [],
   "source": [
    "fig, ax = plt.subplots(1,1,figsize=(8,8), subplot_kw={'projection':ccrs.Robinson()})\n",
    "\n",
    "def plot_seascape(seascape):\n",
    "    ax = plt.gca()\n",
    "    return ax.contourf(seascape.longitude, seascape.latitude, seascape, levels=[x for x in range(0,31)],\\\n",
    "                        transform=ccrs.PlateCarree(), norm=norm, cmap='coolwarm', extend='both');\n",
    "\n",
    "# Plot background\n",
    "for idx, point in points.iterrows():\n",
    "    # Get point background\n",
    "    point_lon = point['lon']\n",
    "    point_lat = point['lat']\n",
    "    seascape = glorys_var.sel(\n",
    "        latitude=slice(point_lat-seascape_size/2, point_lat+seascape_size/2),\n",
    "        longitude=slice(point_lon-seascape_size/2, point_lon+seascape_size/2)\n",
    "        )\n",
    "    \n",
    "    if seascape.size == 0:\n",
    "        print(\"Empty seascape. Skipping plot.\")\n",
    "        continue\n",
    "\n",
    "    contourf_ = plot_seascape(seascape)\n",
    "    \n",
    "cbar = fig.colorbar(contourf_, label=\"°C\", ticks=[x*5 for x in range(0,7)], extend='both')\n",
    "\n",
    "xscp.plotting.plot_points(points)"
   ]
  }
 ],
 "metadata": {
  "kernelspec": {
   "display_name": "XScape",
   "language": "python",
   "name": "python3"
  },
  "language_info": {
   "codemirror_mode": {
    "name": "ipython",
    "version": 3
   },
   "file_extension": ".py",
   "mimetype": "text/x-python",
   "name": "python",
   "nbconvert_exporter": "python",
   "pygments_lexer": "ipython3",
   "version": "3.12.8"
  }
 },
 "nbformat": 4,
 "nbformat_minor": 2
}
